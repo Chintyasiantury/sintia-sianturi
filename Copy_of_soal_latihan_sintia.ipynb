{
  "nbformat": 4,
  "nbformat_minor": 0,
  "metadata": {
    "colab": {
      "provenance": [],
      "authorship_tag": "ABX9TyMcnNMy+axDMaqPRqRVK93B",
      "include_colab_link": true
    },
    "kernelspec": {
      "name": "python3",
      "display_name": "Python 3"
    },
    "language_info": {
      "name": "python"
    }
  },
  "cells": [
    {
      "cell_type": "markdown",
      "metadata": {
        "id": "view-in-github",
        "colab_type": "text"
      },
      "source": [
        "<a href=\"https://colab.research.google.com/github/Chintyasiantury/sintia-sianturi/blob/main/Copy_of_soal_latihan_sintia.ipynb\" target=\"_parent\"><img src=\"https://colab.research.google.com/assets/colab-badge.svg\" alt=\"Open In Colab\"/></a>"
      ]
    },
    {
      "cell_type": "code",
      "source": [
        "#program meminta memasukkan nama\n",
        "nama= input(\"Masukkan nama anda:\")\n",
        "print(\"Hallo\" ,nama , \"! Selamat belajar Python!\")"
      ],
      "metadata": {
        "colab": {
          "base_uri": "https://localhost:8080/"
        },
        "id": "ThMZf0N3gUbH",
        "outputId": "e61af2d7-1ec0-443f-d92f-18106eee5028"
      },
      "execution_count": null,
      "outputs": [
        {
          "output_type": "stream",
          "name": "stdout",
          "text": [
            "Masukkan nama anda:sintia\n",
            "Hallo sintia ! Selamat belajar Python!\n"
          ]
        }
      ]
    },
    {
      "cell_type": "code",
      "execution_count": null,
      "metadata": {
        "id": "MHRTlmuIM5Ez",
        "colab": {
          "base_uri": "https://localhost:8080/"
        },
        "outputId": "ba56c5e0-c463-48f2-e7c0-556038473ddb"
      },
      "outputs": [
        {
          "output_type": "stream",
          "name": "stdout",
          "text": [
            "Masukkan panjang persegi panjang: 5\n",
            "Masukkan lebar persegi panjang: 3\n",
            "Luas persegi panjang adalah: 15.0\n"
          ]
        }
      ],
      "source": [
        "# Program menghitung luas persegi panjang\n",
        "# Meminta input panjang dan lebar dari pengguna\n",
        "panjang = float(input(\"Masukkan panjang persegi panjang: \"))\n",
        "lebar = float(input(\"Masukkan lebar persegi panjang: \"))\n",
        "\n",
        "# Menghitung luas persegi panjang\n",
        "luas = panjang * lebar\n",
        "\n",
        "# Menampilkan hasil\n",
        "print(f\"Luas persegi panjang adalah: {luas}\")\n"
      ]
    },
    {
      "cell_type": "code",
      "source": [
        "# Program menentukan apakah bilangan genap atau ganjil\n",
        "# Meminta sebuah bilangan bulat dari pengguna\n",
        "bilangan = int(input(\"Masukkan bilangan: \"))\n",
        "\n",
        "# Menentukan apakah bilangan genap atau ganjil\n",
        "if bilangan % 2 == 0:\n",
        "    print(f\"{bilangan} adalah bilangan genap\")\n",
        "else:\n",
        "    print(f\"{bilangan} adalah bilangan ganjil\")"
      ],
      "metadata": {
        "colab": {
          "base_uri": "https://localhost:8080/"
        },
        "id": "I6huub5TPRQR",
        "outputId": "99319d93-2109-46a4-f4bc-04bbeca03304"
      },
      "execution_count": null,
      "outputs": [
        {
          "output_type": "stream",
          "name": "stdout",
          "text": [
            "Masukkan bilangan: 7\n",
            "7 adalah bilangan ganjil\n"
          ]
        }
      ]
    },
    {
      "cell_type": "code",
      "source": [
        "# Program menghitung jumlah semua bilangan antara a dan b\n",
        "# Meminta dua bilangan bulat a dan b dari pengguna\n",
        "a = int(input(\"masukkan bilangan pertama:\"))\n",
        "b = int(input(\"masukkan bilangan kedua:\"))\n",
        "\n",
        "jumlah=0\n",
        "for i in range (a,b+1):\n",
        "  jumlah =jumlah=i\n",
        "print(f\"jumlah: {jumlah}\")"
      ],
      "metadata": {
        "colab": {
          "base_uri": "https://localhost:8080/"
        },
        "id": "rFc2GpaGVvh5",
        "outputId": "5554305c-5026-4568-eb67-20a3dc23087d"
      },
      "execution_count": null,
      "outputs": [
        {
          "output_type": "stream",
          "name": "stdout",
          "text": [
            "masukkan bilangan pertama:3\n",
            "masukkan bilangan kedua:7\n",
            "jumlah: 7\n"
          ]
        }
      ]
    },
    {
      "cell_type": "code",
      "source": [
        "# Program mencetak nilai array\n",
        "\n",
        "# Input array\n",
        "A=[5,2,8,1]\n",
        "# Membalik urutan array\n",
        "A_terbalik=A[::-1]\n",
        "# Mencetak hasil\n",
        "print(\"array terbalik:\", A_terbalik)"
      ],
      "metadata": {
        "colab": {
          "base_uri": "https://localhost:8080/"
        },
        "id": "x7BjaWfzegdZ",
        "outputId": "17837a17-c137-4bba-9069-f53a6cd34d60"
      },
      "execution_count": null,
      "outputs": [
        {
          "output_type": "stream",
          "name": "stdout",
          "text": [
            "array terbalik: [1, 8, 2, 5]\n"
          ]
        }
      ]
    },
    {
      "cell_type": "code",
      "source": [
        "#menentukan  bilangan prima\n",
        "angka = int(input(\"Masukkan bilangan bulat: \"))\n",
        "prima = True\n",
        "if angka < 2:\n",
        "  prima = False\n",
        "else:\n",
        "  for i in range(2, angka):\n",
        "      if angka % i == 0:\n",
        "        prima = False\n",
        "        break\n",
        "if prima:\n",
        "  print(f\"{angka} adalah bilangan prima\")\n",
        "else:\n",
        "  print (f\"{angka} bukan bilangan prima\")"
      ],
      "metadata": {
        "colab": {
          "base_uri": "https://localhost:8080/"
        },
        "id": "cjD0r3atdlP7",
        "outputId": "f5220801-8737-4434-967b-66e5d67bf095"
      },
      "execution_count": null,
      "outputs": [
        {
          "output_type": "stream",
          "name": "stdout",
          "text": [
            "Masukkan bilangan bulat: 13\n",
            "13 adalah bilangan prima\n"
          ]
        }
      ]
    },
    {
      "cell_type": "code",
      "source": [
        "#mencari bilangan bulat dalam rentang tertentu\n",
        "a = int(input(\"Masukkan bilangan pertama: \"))\n",
        "b = int(input(\"Masukkan bilangan kedua: \"))\n",
        "print (f\"Bilangan genap antara {a} sampai {b} adalah: \")\n",
        "for i in range(a,b+1):\n",
        "  if i % 2 == 0:\n",
        "    print ((i), end=\" \")"
      ],
      "metadata": {
        "colab": {
          "base_uri": "https://localhost:8080/"
        },
        "id": "QF9O08Gtf19u",
        "outputId": "ff0b470f-c11e-454a-89f8-7f91786d35de"
      },
      "execution_count": null,
      "outputs": [
        {
          "output_type": "stream",
          "name": "stdout",
          "text": [
            "Masukkan bilangan pertama: 3\n",
            "Masukkan bilangan kedua: 10\n",
            "Bilangan genap antara 3 sampai 10 adalah: \n",
            "4 6 8 10 "
          ]
        }
      ]
    },
    {
      "cell_type": "code",
      "source": [
        "#program menampilkan deret bilangan dari 1 sampai 20\n",
        "for i in range(1,21):\n",
        "  print(i, end=\" \")"
      ],
      "metadata": {
        "colab": {
          "base_uri": "https://localhost:8080/"
        },
        "id": "DmENZNW0gHNh",
        "outputId": "a2c98697-e778-423a-afac-ff6a96deb7c9"
      },
      "execution_count": null,
      "outputs": [
        {
          "output_type": "stream",
          "name": "stdout",
          "text": [
            "1 2 3 4 5 6 7 8 9 10 11 12 13 14 15 16 17 18 19 20 "
          ]
        }
      ]
    }
  ]
}