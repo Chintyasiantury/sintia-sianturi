{
  "nbformat": 4,
  "nbformat_minor": 0,
  "metadata": {
    "colab": {
      "provenance": [],
      "authorship_tag": "ABX9TyMf7xJc2yjeQTgtoF9njo5w",
      "include_colab_link": true
    },
    "kernelspec": {
      "name": "python3",
      "display_name": "Python 3"
    },
    "language_info": {
      "name": "python"
    }
  },
  "cells": [
    {
      "cell_type": "markdown",
      "metadata": {
        "id": "view-in-github",
        "colab_type": "text"
      },
      "source": [
        "<a href=\"https://colab.research.google.com/github/Chintyasiantury/sintia-sianturi/blob/main/P5_SintiaSianturi_2C1240052.ipynb\" target=\"_parent\"><img src=\"https://colab.research.google.com/assets/colab-badge.svg\" alt=\"Open In Colab\"/></a>"
      ]
    },
    {
      "cell_type": "code",
      "execution_count": null,
      "metadata": {
        "colab": {
          "base_uri": "https://localhost:8080/"
        },
        "id": "EArXO3AVJbTH",
        "outputId": "bb66740d-f9f9-4672-ee5c-f9d413d9da23"
      },
      "outputs": [
        {
          "output_type": "stream",
          "name": "stdout",
          "text": [
            "Hello,World\n"
          ]
        }
      ],
      "source": [
        "#Program HelloWorld\n",
        "#Mencetak Hello, World! ke layar\n",
        "\n",
        "#KAMUS\n",
        "#belum diperlukan\n",
        "\n",
        "#ALGORITMA\n",
        "print('Hello,World')"
      ]
    },
    {
      "cell_type": "code",
      "source": [
        "#proses memasukan data ke dalam variabel\n",
        "nama = \"John Doe\"\n",
        "#proses mencetak variabel\n",
        "print(nama)\n",
        "\n",
        "namaDepan = \"Budi\"\n",
        "namaBelakang = \"Susanto\"\n",
        "nama = namaDepan + \" \" + namaBelakang\n",
        "umur = 22\n",
        "hobi = \"Berenang\"\n",
        "print(\"Biodata\\n\", nama, \"\\n\", umur, \"\\n\", hobi)"
      ],
      "metadata": {
        "id": "SHpBB01wEP29",
        "outputId": "2d0f6e04-e60f-48be-d10c-76de947fd55e",
        "colab": {
          "base_uri": "https://localhost:8080/"
        }
      },
      "execution_count": null,
      "outputs": [
        {
          "output_type": "stream",
          "name": "stdout",
          "text": [
            "John Doe\n",
            "Biodata\n",
            " Budi Susanto \n",
            " 22 \n",
            " Berenang\n"
          ]
        }
      ]
    },
    {
      "cell_type": "code",
      "source": [
        "#nilai dan tipe data dalam variabel dapat diubah\n",
        "umur = 20 #nilai awal\n",
        "print(umur) #mencetak nilai umur\n",
        "type(umur) #mengecek tipe data umur\n",
        "umur = \"dua puluh satu\" #nilai setelah diubah\n",
        "print(umur) #mencetak nilai umur\n",
        "type(umur) #mengecek tipe data umur"
      ],
      "metadata": {
        "id": "Zke2g7iQEklf",
        "outputId": "49213b4b-1678-4a19-9670-b260696d45d0",
        "colab": {
          "base_uri": "https://localhost:8080/"
        }
      },
      "execution_count": null,
      "outputs": [
        {
          "output_type": "stream",
          "name": "stdout",
          "text": [
            "20\n",
            "dua puluh satu\n"
          ]
        },
        {
          "output_type": "execute_result",
          "data": {
            "text/plain": [
              "str"
            ]
          },
          "metadata": {},
          "execution_count": 2
        }
      ]
    },
    {
      "cell_type": "code",
      "source": [
        "#contoh variabel lainya\n",
        "inivariabel = \"Halo\"\n",
        "ini_juga_variabel = \"Hai\"\n",
        "_inivariabeljuga = \"Hi\"\n",
        "inivariabel222 = \"Bye\"\n",
        "\n",
        "panjang = 10\n",
        "lebar = 5\n",
        "luas = panjang * lebar\n",
        "print(luas)"
      ],
      "metadata": {
        "id": "_i0oEE_VErWL",
        "outputId": "7e068e21-583f-45fe-9921-ff395ca98389",
        "colab": {
          "base_uri": "https://localhost:8080/"
        }
      },
      "execution_count": null,
      "outputs": [
        {
          "output_type": "stream",
          "name": "stdout",
          "text": [
            "50\n"
          ]
        }
      ]
    },
    {
      "cell_type": "code",
      "source": [
        "print(\"Hello, World!\") # (1)\n",
        "print(\"Ini program\", end=\"\") # (2)\n",
        "print(\" pertama saya\") # (3)\n",
        "print(\"Dengan\", \"Koma\")\n",
        "# Ini akan menghasilkan luaran \"Dengan Koma\"\n",
        "\n",
        "print(\"Dengan\" + \" Plus\")\n",
        "# Ini akan menghasilkan luaran \"DenganPlus\"\n",
        "# Perhatikan '+' pada print melakukan konkatenasi pada string saja.\n",
        "variabel = \" sebuah nilai\"\n",
        "print(f\"Dengan format {variabel}\")\n",
        "# Ini akan menghasilkan luaran \"Dengan format sebuah nilai\"\n",
        "# {variabel} akan diubah dengan nilai dari variabel bersesuaian.\n",
        "\n",
        "# Ini adalah sebuah komentar.\n",
        "# Semua yang ada setelah tanda pagar (#) akan diabaikan oleh interpreter"
      ],
      "metadata": {
        "id": "IHUlapl1E4Cu",
        "outputId": "e200c246-c0d3-428c-f724-968d61be9166",
        "colab": {
          "base_uri": "https://localhost:8080/"
        }
      },
      "execution_count": null,
      "outputs": [
        {
          "output_type": "stream",
          "name": "stdout",
          "text": [
            "Hello, World!\n",
            "Ini program pertama saya\n",
            "Dengan Koma\n",
            "Dengan Plus\n",
            "Dengan format  sebuah nilai\n"
          ]
        }
      ]
    },
    {
      "cell_type": "code",
      "source": [
        "S = input(\"Masukkan kalimat: \") #(1)\n",
        "print(\"Anda memasuk kan kalimat: \" + S) #(2)\n",
        "N = int(input(\"Masukkan sebuah angka: \")) # (3)\n",
        "print(\"Jika angka Anda ditambah 5, hasilnya: \" + str(N + 5)) #(4)"
      ],
      "metadata": {
        "id": "mBvq3lTuFADb",
        "outputId": "6deca26c-f916-42fc-cf6d-b24fc61137e9",
        "colab": {
          "base_uri": "https://localhost:8080/"
        }
      },
      "execution_count": null,
      "outputs": [
        {
          "output_type": "stream",
          "name": "stdout",
          "text": [
            "Masukkan kalimat: sintia\n",
            "Anda memasuk kan kalimat: sintia\n",
            "Masukkan sebuah angka: 7\n",
            "Jika angka Anda ditambah 5, hasilnya: 12\n"
          ]
        }
      ]
    },
    {
      "cell_type": "code",
      "source": [
        "#contoh tipe data\n",
        "#tipe data Boolean\n",
        "print(True)\n",
        "\n",
        "#tipe data String\n",
        "print(\"Ayo belajar Python\")\n",
        "print('Belajar Python Sangat Mudah')\n",
        "\n",
        "#tipe data Integer\n",
        "print(20)\n",
        "\n",
        "#tipe data Float\n",
        "print(3.14)"
      ],
      "metadata": {
        "id": "TR9kEiHlFZB2",
        "outputId": "75a9cc6e-2acb-4189-f6d6-c9fe06cf1b30",
        "colab": {
          "base_uri": "https://localhost:8080/"
        }
      },
      "execution_count": null,
      "outputs": [
        {
          "output_type": "stream",
          "name": "stdout",
          "text": [
            "True\n",
            "Ayo belajar Python\n",
            "Belajar Python Sangat Mudah\n",
            "20\n",
            "3.14\n"
          ]
        }
      ]
    },
    {
      "cell_type": "code",
      "source": [
        "#interger ke float\n",
        "x = float(5)\n",
        "print(x)\n",
        "\n",
        "#float ke integer\n",
        "x = int(5.6)\n",
        "print(x)\n",
        "\n",
        "#suatu nilai ke string\n",
        "x = str(9)\n",
        "print(x)\n",
        "\n",
        "#kumpulan data ke set, tuple, dan list\n",
        "X = set([1, 2, 3])\n",
        "y = tuple({5, 6, 7})\n",
        "z = list((\"hello\"))\n",
        "print(x)\n",
        "print(y)\n",
        "print(z)"
      ],
      "metadata": {
        "id": "lVGy44SvFjwD",
        "outputId": "6f05bb40-13a0-4ebd-f730-6b285ff70c78",
        "colab": {
          "base_uri": "https://localhost:8080/"
        }
      },
      "execution_count": null,
      "outputs": [
        {
          "output_type": "stream",
          "name": "stdout",
          "text": [
            "5.0\n",
            "5\n",
            "9\n",
            "9\n",
            "(5, 6, 7)\n",
            "['h', 'e', 'l', 'l', 'o']\n"
          ]
        }
      ]
    },
    {
      "cell_type": "code",
      "source": [
        "x = 8\n",
        "y = 2\n",
        "result = x + y\n",
        "print(result)"
      ],
      "metadata": {
        "id": "_qnIy5tjFv7v",
        "outputId": "4081acf0-dc6a-46f9-c6b7-a96a93232385",
        "colab": {
          "base_uri": "https://localhost:8080/"
        }
      },
      "execution_count": null,
      "outputs": [
        {
          "output_type": "stream",
          "name": "stdout",
          "text": [
            "10\n"
          ]
        }
      ]
    },
    {
      "cell_type": "code",
      "source": [
        "# Penjumlahan\n",
        "print(13 + 2)\n",
        "apel = 7\n",
        "jeruk = 9\n",
        "buah = apel + jeruk  # Menjumlahkan jumlah apel dan jeruk\n",
        "print(f\"Jumlah buah: {buah}\")\n",
        "\n",
        "# Pengurangan\n",
        "hutang = 10000\n",
        "bayar = 5000\n",
        "sisa_hutang = hutang - bayar  # Menghitung sisa hutang\n",
        "print(f\"Sisa hutang Anda adalah {sisa_hutang}\")\n",
        "\n",
        "# Perkalian\n",
        "panjang = 15\n",
        "lebar = 8\n",
        "luas = panjang * lebar  # Menghitung luas persegi panjang\n",
        "print(f\"Luas persegi panjang: {luas}\")\n",
        "\n",
        "# Pembagian\n",
        "kue = 16\n",
        "anak = 4\n",
        "kue_per_anak = kue / anak  # Menghitung bagian kue per anak\n",
        "print(f\"Setiap anak akan mendapatkan bagian kue sebanyak {kue_per_anak}\")\n",
        "\n",
        "# Sisa Bagi / Modulus\n",
        "bilangan1 = 14\n",
        "bilangan2 = 5\n",
        "hasil = bilangan1 % bilangan2  # Menghitung sisa bagi\n",
        "print(f\"Sisa bagi dari bilangan {bilangan1} dan {bilangan2} adalah {hasil}\")\n",
        "\n",
        "# Pangkat\n",
        "bilangan3 = 8\n",
        "bilangan4 = 2\n",
        "hasil_pangkat = bilangan3 ** bilangan4  # Menghitung hasil pangkat print(f\"Hasil pangkat: {hasil_pangkat}\")\n",
        "\n",
        "# Pembagian Bulat\n",
        "print(10 // 3)\n",
        "# 10 dibagi 3 adalah 3.3333. Karena dibulatkan maka akan menghasilkan nilai 3\n"
      ],
      "metadata": {
        "id": "nnbUgRDvF5gC",
        "outputId": "5372a913-a9e5-4e4e-a82a-2c97038465bb",
        "colab": {
          "base_uri": "https://localhost:8080/"
        }
      },
      "execution_count": null,
      "outputs": [
        {
          "output_type": "stream",
          "name": "stdout",
          "text": [
            "15\n",
            "Jumlah buah: 16\n",
            "Sisa hutang Anda adalah 5000\n",
            "Luas persegi panjang: 120\n",
            "Setiap anak akan mendapatkan bagian kue sebanyak 4.0\n",
            "Sisa bagi dari bilangan 14 dan 5 adalah 4\n",
            "3\n"
          ]
        }
      ]
    },
    {
      "cell_type": "code",
      "source": [
        "# SAMA DENGAN\n",
        "print(1 == 1) # Hasilnya akan bernilai True karena satu sama dengan satu\n",
        "print(1 == 2) # Hasilnya akan bernilai False karena satu tidak sama dengan dua"
      ],
      "metadata": {
        "id": "6VeG2S-rGE9Q",
        "outputId": "8fb28953-7c55-409f-b727-40e9fb6e7198",
        "colab": {
          "base_uri": "https://localhost:8080/"
        }
      },
      "execution_count": null,
      "outputs": [
        {
          "output_type": "stream",
          "name": "stdout",
          "text": [
            "True\n",
            "False\n"
          ]
        }
      ]
    },
    {
      "cell_type": "code",
      "source": [
        "# TIDAK SAMA DENGAN\n",
        "print(2 != 2) # Hasilnya akan bernilai False karena dua seharusnya sama dengan dua\n",
        "print(2 != 3) # Hasilnya akan bernilai True karena dua tidak sama dengan tiga\n"
      ],
      "metadata": {
        "id": "D1I_DfSsGMiD",
        "outputId": "ce9f9522-378d-4ac0-a37d-a3ab3fc11283",
        "colab": {
          "base_uri": "https://localhost:8080/"
        }
      },
      "execution_count": null,
      "outputs": [
        {
          "output_type": "stream",
          "name": "stdout",
          "text": [
            "False\n",
            "True\n"
          ]
        }
      ]
    },
    {
      "cell_type": "code",
      "source": [
        "# LEBIH BESAR DARI\n",
        "print(5 > 3) # Hasilnya akan bernilai True karena lima lebih besar dari tiga\n",
        "\n",
        "# LEBIH KECIL DARI\n",
        "print(5 < 3) # Hasilnya akan bernilai False karena lima tidak lebih besar dari tiga\n",
        "\n",
        "# LEBIH BESAR DARI SAMA DENGAN\n",
        "print(5 >= 3) # Hasilnya akan bernilai True karena lima lebih besar dari sama dengan tiga\n",
        "\n",
        "# LEBIH KECIL DARI SAMA DENGAN\n",
        "print(5 <= 3) # Hasilnya akan bernilai False karena lima tidak lebih besar dari sama dengan tiga\n"
      ],
      "metadata": {
        "id": "jpHKl9fIGTTo",
        "outputId": "fd19b9b3-c272-4f42-cb46-4bde525d4d2b",
        "colab": {
          "base_uri": "https://localhost:8080/"
        }
      },
      "execution_count": null,
      "outputs": [
        {
          "output_type": "stream",
          "name": "stdout",
          "text": [
            "True\n",
            "False\n",
            "True\n",
            "False\n"
          ]
        }
      ]
    },
    {
      "cell_type": "code",
      "source": [
        "# Penjumlahan\n",
        "print(13 + 2)\n",
        "apel = 7\n",
        "jeruk = 9 (ini adalah banyaknya jeruk)\n",
        "buah = apel + jeruk  # Menjumlahkan jumlah apel dan jeruk\n",
        "print(f\"Jumlah buah: {buah}\")"
      ],
      "metadata": {
        "id": "Tobz49PSGYxW",
        "outputId": "fa01bcc7-b210-477b-fb0a-e9d8f49b2ff0",
        "colab": {
          "base_uri": "https://localhost:8080/",
          "height": 106
        }
      },
      "execution_count": null,
      "outputs": [
        {
          "output_type": "error",
          "ename": "SyntaxError",
          "evalue": "invalid syntax. Perhaps you forgot a comma? (<ipython-input-23-0f361a5ac2c0>, line 4)",
          "traceback": [
            "\u001b[0;36m  File \u001b[0;32m\"<ipython-input-23-0f361a5ac2c0>\"\u001b[0;36m, line \u001b[0;32m4\u001b[0m\n\u001b[0;31m    jeruk = 9 (ini adalah banyaknya jeruk)\u001b[0m\n\u001b[0m               ^\u001b[0m\n\u001b[0;31mSyntaxError\u001b[0m\u001b[0;31m:\u001b[0m invalid syntax. Perhaps you forgot a comma?\n"
          ]
        }
      ]
    },
    {
      "cell_type": "code",
      "source": [
        "# Penjumlahan\n",
        "print(13 + 2)\n",
        "apel = 7\n",
        "jeruk = 9 #ini adalah banyaknya jeruk\n",
        "buah = apel + jeruk  # Menjumlahkan jumlah apel dan jeruk\n",
        "print(f\"Jumlah buah: {buah}\")\n",
        "\n"
      ],
      "metadata": {
        "id": "S13PkCKWNO1e",
        "outputId": "43ee48a8-9267-4e1d-ce30-ade56b40b2d9",
        "colab": {
          "base_uri": "https://localhost:8080/"
        }
      },
      "execution_count": null,
      "outputs": [
        {
          "output_type": "stream",
          "name": "stdout",
          "text": [
            "15\n",
            "Jumlah buah: 16\n"
          ]
        }
      ]
    },
    {
      "cell_type": "code",
      "source": [
        "#Soal 1\n",
        "\n",
        "#Program Menghitung Luas Persegi\n",
        "\n",
        "#Input\n",
        "sisi = float(input(\"Masukkan Panjang Sisi Persegi: \"))\n",
        "\n",
        "#Proses\n",
        "luas = sisi * sisi\n",
        "\n",
        "#Output\n",
        "print(f\"luas persegi dengan sisi {sisi} adalah {luas}\")"
      ],
      "metadata": {
        "id": "3aAijvveOeiQ",
        "outputId": "ae2dcb96-ba7a-4ee6-9b8b-62a7c21295ef",
        "colab": {
          "base_uri": "https://localhost:8080/"
        }
      },
      "execution_count": null,
      "outputs": [
        {
          "output_type": "stream",
          "name": "stdout",
          "text": [
            "Masukkan Panjang Sisi Persegi: 17\n",
            "luas persegi dengan sisi 17.0 adalah 289.0\n"
          ]
        }
      ]
    },
    {
      "cell_type": "code",
      "source": [
        "#Soal 2\n",
        "\n",
        "# Program Memasukkan dan Menampilkan Data Mahasiswa\n",
        "\n",
        "# Input\n",
        "nama = input(\"Masukkan Nama: \")\n",
        "nim = input(\"Masukkan NIM: \")\n",
        "fakultas = input(\"Masukkan Fakultas: \")\n",
        "jurusan = input(\"Masukkan Jurusan: \")\n",
        "kota_asal = input(\"Masukkan Kota Asal: \")\n",
        "alamat = input(\"Masukkan Alamat: \")\n",
        "\n",
        "# Output\n",
        "print(\"\\n--- DATA MAHASISWA ---\")\n",
        "print(f\"Nama       : {nama}\")\n",
        "print(f\"NIM        : {nim}\")\n",
        "print(f\"Fakultas   : {fakultas}\")\n",
        "print(f\"Jurusan    : {jurusan}\")\n",
        "print(f\"Kota Asal  : {kota_asal}\")\n",
        "print(f\"Alamat     : {alamat}\")"
      ],
      "metadata": {
        "id": "Ae52wIWBVqzt",
        "outputId": "952c63e8-7c76-48be-c496-0fa3b7290403",
        "colab": {
          "base_uri": "https://localhost:8080/"
        }
      },
      "execution_count": null,
      "outputs": [
        {
          "output_type": "stream",
          "name": "stdout",
          "text": [
            "Masukkan Nama: Sintia Sianturi\n",
            "Masukkan NIM: 2C1240052\n",
            "Masukkan Fakultas: Sains & Teknologi\n",
            "Masukkan Jurusan: Agribisnis\n",
            "Masukkan Kota Asal: Medan\n",
            "Masukkan Alamat: Jatinangor\n",
            "\n",
            "--- DATA MAHASISWA ---\n",
            "Nama       : Sintia Sianturi\n",
            "NIM        : 2C1240052\n",
            "Fakultas   : Sains & Teknologi\n",
            "Jurusan    : Agribisnis\n",
            "Kota Asal  : Medan\n",
            "Alamat     : Jatinangor\n"
          ]
        }
      ]
    }
  ]
}