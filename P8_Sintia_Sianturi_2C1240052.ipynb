{
  "nbformat": 4,
  "nbformat_minor": 0,
  "metadata": {
    "colab": {
      "provenance": [],
      "include_colab_link": true
    },
    "kernelspec": {
      "name": "python3",
      "display_name": "Python 3"
    },
    "language_info": {
      "name": "python"
    }
  },
  "cells": [
    {
      "cell_type": "markdown",
      "metadata": {
        "id": "view-in-github",
        "colab_type": "text"
      },
      "source": [
        "<a href=\"https://colab.research.google.com/github/Chintyasiantury/sintia-sianturi/blob/main/P8_Sintia_Sianturi_2C1240052.ipynb\" target=\"_parent\"><img src=\"https://colab.research.google.com/assets/colab-badge.svg\" alt=\"Open In Colab\"/></a>"
      ]
    },
    {
      "cell_type": "markdown",
      "source": [
        "**FUNDAMENTAL ARRAY**"
      ],
      "metadata": {
        "id": "wfgZxt5q_TzV"
      }
    },
    {
      "cell_type": "code",
      "execution_count": null,
      "metadata": {
        "id": "9TB1ZwTr_DYz"
      },
      "outputs": [],
      "source": [
        "arr = [10, 20, 30, 40]"
      ]
    },
    {
      "cell_type": "code",
      "source": [
        "list_numbers = [1, 2, 3, 4, 5]"
      ],
      "metadata": {
        "id": "Qye2YU0__OFZ"
      },
      "execution_count": null,
      "outputs": []
    },
    {
      "cell_type": "code",
      "source": [
        "list_numbers[0] = 100  # Mengubah elemen pertama menjadi 100"
      ],
      "metadata": {
        "id": "Fl3348wK_Rjh"
      },
      "execution_count": null,
      "outputs": []
    },
    {
      "cell_type": "markdown",
      "source": [
        "**MENDEKLARASIKAN ARRAY**"
      ],
      "metadata": {
        "id": "vu07k-Tj_cp9"
      }
    },
    {
      "cell_type": "code",
      "source": [
        "arr = [1, 2, 3, 4, 5]"
      ],
      "metadata": {
        "id": "Z7JTYURvCO49"
      },
      "execution_count": null,
      "outputs": []
    },
    {
      "cell_type": "code",
      "source": [
        "data = [1, 2, 3, 'hello', 5.5]  # array dengan elemen tipe berbeda"
      ],
      "metadata": {
        "id": "OKBRVSaA_f6u"
      },
      "execution_count": null,
      "outputs": []
    },
    {
      "cell_type": "code",
      "source": [
        "arr = [0] * 5  # Membuat array dengan 5 elemen, semua berisi 0"
      ],
      "metadata": {
        "id": "2b5ZTBRJ_isp"
      },
      "execution_count": null,
      "outputs": []
    },
    {
      "cell_type": "code",
      "source": [
        "arr = [10, 20, 30, 40]\n",
        "print(arr[0])  # Output: 10 (indeks pertama)\n",
        "print(arr[3])  # Output: 40 (indeks terakhir)"
      ],
      "metadata": {
        "colab": {
          "base_uri": "https://localhost:8080/"
        },
        "id": "GHWtWUHi_knC",
        "outputId": "dc142b45-7102-46d8-a7d9-8ab7258204a9"
      },
      "execution_count": null,
      "outputs": [
        {
          "output_type": "stream",
          "name": "stdout",
          "text": [
            "10\n",
            "40\n"
          ]
        }
      ]
    },
    {
      "cell_type": "markdown",
      "source": [
        "**PEMROSESAN SEKUENSIAL ARRAY**"
      ],
      "metadata": {
        "id": "fQEuwUc3_mrE"
      }
    },
    {
      "cell_type": "code",
      "source": [
        "arr = [10, 20, 30, 40, 50]\n",
        "for elemen in arr:\n",
        "    print(elemen)\n"
      ],
      "metadata": {
        "colab": {
          "base_uri": "https://localhost:8080/"
        },
        "id": "7ZE8ZrrE_qmV",
        "outputId": "b5093213-3273-445d-ff08-3c3005558e96"
      },
      "execution_count": null,
      "outputs": [
        {
          "output_type": "stream",
          "name": "stdout",
          "text": [
            "10\n",
            "20\n",
            "30\n",
            "40\n",
            "50\n"
          ]
        }
      ]
    },
    {
      "cell_type": "code",
      "source": [
        "total = 0\n",
        "for elemen in arr:\n",
        "    total += elemen\n",
        "print(total)  # Output: 150\n"
      ],
      "metadata": {
        "colab": {
          "base_uri": "https://localhost:8080/"
        },
        "id": "sWK3Hdb9_tzN",
        "outputId": "293b7916-7953-489c-93b8-37a8a1172900"
      },
      "execution_count": null,
      "outputs": [
        {
          "output_type": "stream",
          "name": "stdout",
          "text": [
            "150\n"
          ]
        }
      ]
    },
    {
      "cell_type": "code",
      "source": [
        "# Latihan 1\n",
        "\n",
        "# Mendefinisikan array s dengan 6 elemen integer\n",
        "S = [4, 1, -1, 10, 0, 12]\n",
        "# Menerima input integer D dari pengguna\n",
        "D = int(input(\"Masukkan nilai D: \"))\n",
        "# Mengalikan setiap elemen dalam array S dengan D\n",
        "S = [x * D for x in S]\n",
        "print(\"Array setelah dikalikan dengan D:\", S)"
      ],
      "metadata": {
        "id": "s6ps-kEOaCDW",
        "outputId": "42e10da7-3648-4a07-82ed-ff4c19719946",
        "colab": {
          "base_uri": "https://localhost:8080/"
        }
      },
      "execution_count": null,
      "outputs": [
        {
          "output_type": "stream",
          "name": "stdout",
          "text": [
            "Masukkan nilai D: 2\n",
            "Array setelah dikalikan dengan D: [8, 2, -2, 20, 0, 24]\n"
          ]
        }
      ]
    },
    {
      "cell_type": "code",
      "source": [
        "# Latihan 2\n",
        "\n",
        "# program untuk mencari nilai terbesar dari elemen array\n",
        "\n",
        "# masukkan elemen array T\n",
        "T1= [9,12,30,-1,0,4,-1,3,30,14]\n",
        "nilai_terbesar = max(T1)\n",
        "nilai_terkecil = min(T1)\n",
        "print(\"nilai terbesar dari elemen array T1 adalah:\", nilai_terbesar)\n",
        "print(\"nilai terkecil dari elemen array T1 adalah:\", nilai_terkecil)\n",
        "\n",
        "# masukkan elemen array T\n",
        "T2=[1,3,5,8,-12,90,3,5]\n",
        "nilai_terbesar =max(T2)\n",
        "nilai_terkecil =min(T2)\n",
        "print(\"nilai terbesar dari elemen array T2 adalah:\", nilai_terbesar)\n",
        "print(\"nilai terkecil dari elemen array T2 adalah:\", nilai_terkecil)"
      ],
      "metadata": {
        "id": "nNwKD4VKc-72",
        "outputId": "da6c7923-cea9-4e83-84ce-fba341698ca5",
        "colab": {
          "base_uri": "https://localhost:8080/"
        }
      },
      "execution_count": null,
      "outputs": [
        {
          "output_type": "stream",
          "name": "stdout",
          "text": [
            "nilai terbesar dari elemen array T1 adalah: 30\n",
            "nilai terkecil dari elemen array T1 adalah: -1\n",
            "nilai terbesar dari elemen array T2 adalah: 90\n",
            "nilai terkecil dari elemen array T2 adalah: -12\n"
          ]
        }
      ]
    },
    {
      "cell_type": "code",
      "source": [
        "# Latihan Praktikum 8\n",
        "\n",
        "# Membuat array dengan acak\n",
        "arr = [17, 7, 9, 25, 19,12, 24, 13, 18, 2, 13, 27, 5, 27]\n",
        "#1.nilai maksimum\n",
        "nilai_maks = max(arr)\n",
        "print(\"Nilai Maksimum:\", nilai_maks)\n",
        "\n",
        "# 2. Nilai minimum\n",
        "nilai_min = min(arr)\n",
        "print(\"Nilai Minimum:\", nilai_min)\n",
        "\n",
        "# 3. Hasil penjumlahan seluruh elemen\n",
        "hasil_penjumlahan = sum(arr)\n",
        "print(\"Hasil Penjumlahan:\", hasil_penjumlahan)\n",
        "\n",
        "# 4. Jumlah seluruh elemen\n",
        "jumlah_arr = len(arr)\n",
        "print(\"Jumlah Elemen:\", jumlah_arr)\n",
        "\n",
        "# 5. Rata-rata seluruh elemen\n",
        "rata_rata = hasil_penjumlahan / jumlah_arr\n",
        "print(\"Rata-rata:\", rata_rata)\n",
        "\n"
      ],
      "metadata": {
        "id": "6tT0ziqIaKbf",
        "outputId": "ad45ad6b-363d-40bc-a49a-7f308bb760b4",
        "colab": {
          "base_uri": "https://localhost:8080/"
        }
      },
      "execution_count": null,
      "outputs": [
        {
          "output_type": "stream",
          "name": "stdout",
          "text": [
            "Nilai Maksimum: 27\n",
            "Nilai Minimum: 2\n",
            "Hasil Penjumlahan: 218\n",
            "Jumlah Elemen: 14\n",
            "Rata-rata: 15.571428571428571\n"
          ]
        }
      ]
    }
  ]
}