{
  "nbformat": 4,
  "nbformat_minor": 0,
  "metadata": {
    "colab": {
      "provenance": [],
      "authorship_tag": "ABX9TyNZgwwjKYJTg6YVVwjrVzWJ",
      "include_colab_link": true
    },
    "kernelspec": {
      "name": "python3",
      "display_name": "Python 3"
    },
    "language_info": {
      "name": "python"
    }
  },
  "cells": [
    {
      "cell_type": "markdown",
      "metadata": {
        "id": "view-in-github",
        "colab_type": "text"
      },
      "source": [
        "<a href=\"https://colab.research.google.com/github/Chintyasiantury/sintia-sianturi/blob/main/SINTIA_SIANTURI.ipynb\" target=\"_parent\"><img src=\"https://colab.research.google.com/assets/colab-badge.svg\" alt=\"Open In Colab\"/></a>"
      ]
    },
    {
      "cell_type": "code",
      "source": [
        "#Soal 1\n",
        "bilangan = int(input(\"masukkan sebuah bilangan :\"))\n",
        "if bilangan % 3 == 0 :\n",
        "  print(\"bilangan habis dibagi tiga\")\n",
        "else:\n",
        "  print(\"bilangan tidak habis dibagi tiga\")\n"
      ],
      "metadata": {
        "colab": {
          "base_uri": "https://localhost:8080/"
        },
        "id": "j6IIn14Q7Ind",
        "outputId": "ec342b3a-c6fe-455e-c9a4-7f2a7e53bf17"
      },
      "execution_count": null,
      "outputs": [
        {
          "output_type": "stream",
          "name": "stdout",
          "text": [
            "masukkan sebuah bilangan :12\n",
            "bilangan habis dibagi tiga\n"
          ]
        }
      ]
    },
    {
      "cell_type": "code",
      "source": [
        "#Soal 2\n",
        "nama = input(\"Masukkan nama: \")\n",
        "jenis_kelamin = input(\"Masukkan jenis kelamin (pria/wanita): \").lower()\n",
        "\n",
        "if jenis_kelamin == \"pria\":\n",
        "    print(f\"Halo bro {nama}\")\n",
        "elif jenis_kelamin == \"wanita\":\n",
        "    print(f\"Halo sis {nama}\")\n",
        "else:\n",
        "    print(\"Jenis kelamin tidak dikenali.\")"
      ],
      "metadata": {
        "colab": {
          "base_uri": "https://localhost:8080/"
        },
        "id": "FmsX09Qm9Cyu",
        "outputId": "467d9f5d-61d4-4288-e213-29d930112cc9"
      },
      "execution_count": null,
      "outputs": [
        {
          "output_type": "stream",
          "name": "stdout",
          "text": [
            "Masukkan nama: chintya\n",
            "Masukkan jenis kelamin (pria/wanita): wanita\n",
            "Halo sis chintya\n"
          ]
        }
      ]
    },
    {
      "cell_type": "code",
      "source": [
        "#Soal 3\n",
        "jumlah_barang = int(input(\"Masukkan jumlah barang yang dibeli: \"))\n",
        "total_belanja = 0\n",
        "\n",
        "# Looping untuk setiap barang\n",
        "for i in range(1, jumlah_barang + 1):\n",
        "    print(f\"\\nBarang ke-{i}:\")\n",
        "    harga_satuan = float(input(\"Masukkan harga satuan barang: \"))\n",
        "    jumlah_unit = int(input(\"Masukkan jumlah unit barang: \"))\n",
        "    total_harga_barang = harga_satuan * jumlah_unit\n",
        "    total_belanja += total_harga_barang\n",
        "    print(f\"Total harga barang ke-{i}: {total_harga_barang:.2f}\")\n",
        "\n",
        "# Menampilkan total belanja\n",
        "print(f\"\\nTotal belanja seluruhnya: {total_belanja:.2f}\")"
      ],
      "metadata": {
        "colab": {
          "base_uri": "https://localhost:8080/"
        },
        "id": "imP-BoF89ekj",
        "outputId": "6df2784d-6d90-4748-e1e4-85be15b636f9"
      },
      "execution_count": null,
      "outputs": [
        {
          "output_type": "stream",
          "name": "stdout",
          "text": [
            "Masukkan jumlah barang yang dibeli: 2\n",
            "\n",
            "Barang ke-1:\n",
            "Masukkan harga satuan barang: 7000\n",
            "Masukkan jumlah unit barang: 7\n",
            "Total harga barang ke-1: 49000.00\n",
            "\n",
            "Barang ke-2:\n",
            "Masukkan harga satuan barang: 9000\n",
            "Masukkan jumlah unit barang: 9\n",
            "Total harga barang ke-2: 81000.00\n",
            "\n",
            "Total belanja seluruhnya: 130000.00\n"
          ]
        }
      ]
    },
    {
      "cell_type": "code",
      "source": [
        "#Kondisi if adalah kondisi yang akan dieksekusi oleh program jika bernilai benar atau true\n",
        "nilai = 9\n",
        "#jika kondisi benar/TRUE maka program akan mengeksekusi perintah dibawahnya\n",
        "if(nilai > 7):\n",
        "  print(\"Sembilan Lebih Besar Dari Angka Tujuh\") # Kondisi Benar,Dieksekusi\n",
        "#jika kondisi salah/FALSE maka program tidak akan mengeksekusi perintahdibawahnya\n",
        "if(nilai > 10):\n",
        "  print(\"Sembilan Lebih Besar Dari Angka Sepuluh\") # Kondisi Salah, Maka tidak tereksekusi"
      ],
      "metadata": {
        "colab": {
          "base_uri": "https://localhost:8080/"
        },
        "id": "F6Rpfz5V6wbR",
        "outputId": "5c83f4bf-ad2b-41c8-c15c-9f745a97a352"
      },
      "execution_count": null,
      "outputs": [
        {
          "output_type": "stream",
          "name": "stdout",
          "text": [
            "Sembilan Lebih Besar Dari Angka Tujuh\n"
          ]
        }
      ]
    },
    {
      "cell_type": "code",
      "source": [
        "str_input = input('Enter your grade: ')\n",
        "grade = int(str_input)\n",
        "\n",
        "if grade == 100:\n",
        "    print(\"perfect\")\n",
        "elif grade >= 85:\n",
        "    print(\"awesome\")\n",
        "elif grade >= 65:\n",
        "    print(\"passed the exam\")\n",
        "else:\n",
        "    print(\"below the passing grade\")"
      ],
      "metadata": {
        "colab": {
          "base_uri": "https://localhost:8080/"
        },
        "id": "Mx6hQD_t7_pq",
        "outputId": "5edf3f62-0663-4623-e1ad-df9ad941e46c"
      },
      "execution_count": null,
      "outputs": [
        {
          "output_type": "stream",
          "name": "stdout",
          "text": [
            "Enter your grade: 95\n",
            "awesome\n"
          ]
        }
      ]
    },
    {
      "cell_type": "code",
      "source": [
        "Lapar = input(\"Apakah zaki lapar? \")\n",
        "if(\"lapar == ya\"):\n",
        "    print(\"Zaki makan\")\n",
        "else:\n",
        "    print(\"Zaki tidak makan\")"
      ],
      "metadata": {
        "colab": {
          "base_uri": "https://localhost:8080/"
        },
        "id": "O-Kwh0_7-Vuj",
        "outputId": "79e4d216-fb51-49be-a395-0a5e61714ada"
      },
      "execution_count": null,
      "outputs": [
        {
          "output_type": "stream",
          "name": "stdout",
          "text": [
            "Apakah zaki lapar? ya\n",
            "Zaki makan\n"
          ]
        }
      ]
    },
    {
      "cell_type": "code",
      "source": [
        "# Kondisi if else adalah jika kondisi bernilai TRUE maka akan dieksekusi pada if,\n",
        "# tetapi jika bernilai FALSE maka akan dieksekusi kode pada else\n",
        "nilai = 9\n",
        "# Jika pernyataan pada if bernilai TRUE maka if akan dieksekusi,\n",
        "# tetapi jika FALSE kode pada else yang akan dieksekusi.\n",
        "if(nilai > 7):\n",
        "  print(\"Selamat Anda Lulus\")\n",
        "else:\n",
        "  print(\"Maaf Anda Tidak Lulus\")"
      ],
      "metadata": {
        "colab": {
          "base_uri": "https://localhost:8080/"
        },
        "id": "O0Vr1Dvb-uvF",
        "outputId": "ddc1ade0-b3ff-431e-d55b-c92f73b7a7fd"
      },
      "execution_count": null,
      "outputs": [
        {
          "output_type": "stream",
          "name": "stdout",
          "text": [
            "Selamat Anda Lulus\n"
          ]
        }
      ]
    },
    {
      "cell_type": "code",
      "source": [
        "hari_ini = input(\"Masukkan hari(gunakan huruf kecil): \")\n",
        "\n",
        "if(hari_ini == \"senin\"):\n",
        "    print(\"Saya akan kuliah\")\n",
        "elif(hari_ini == \"selasa\"):\n",
        "    print(\"Saya akan kuliah\")\n",
        "elif(hari_ini == \"rabu\"):\n",
        "    print(\"Saya akan kuliah\")\n",
        "elif(hari_ini == \"kamis\"):\n",
        "    print(\"Saya akan kuliah\")\n",
        "elif(hari_ini == \"jumat\"):\n",
        "    print(\"Saya akan kuliah\")\n",
        "elif(hari_ini == \"sabtu\"):\n",
        "    print(\"Saya akan kuliah\")\n",
        "elif(hari_ini == \"minggu\"):\n",
        "    print(\"Saya akan libur\")"
      ],
      "metadata": {
        "colab": {
          "base_uri": "https://localhost:8080/"
        },
        "id": "g2-GCFFN_OFY",
        "outputId": "a26db79f-2623-46ad-8c5e-fb7bc334aabc"
      },
      "execution_count": null,
      "outputs": [
        {
          "output_type": "stream",
          "name": "stdout",
          "text": [
            "Masukkan hari(gunakan huruf kecil): senin\n",
            "Saya akan kuliah\n"
          ]
        }
      ]
    }
  ]
}