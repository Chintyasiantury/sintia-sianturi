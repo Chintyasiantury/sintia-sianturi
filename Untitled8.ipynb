{
  "nbformat": 4,
  "nbformat_minor": 0,
  "metadata": {
    "colab": {
      "provenance": [],
      "authorship_tag": "ABX9TyNEQ6ANMBKHUV7+PnwEhjy3",
      "include_colab_link": true
    },
    "kernelspec": {
      "name": "python3",
      "display_name": "Python 3"
    },
    "language_info": {
      "name": "python"
    }
  },
  "cells": [
    {
      "cell_type": "markdown",
      "metadata": {
        "id": "view-in-github",
        "colab_type": "text"
      },
      "source": [
        "<a href=\"https://colab.research.google.com/github/Chintyasiantury/sintia-sianturi/blob/main/Untitled8.ipynb\" target=\"_parent\"><img src=\"https://colab.research.google.com/assets/colab-badge.svg\" alt=\"Open In Colab\"/></a>"
      ]
    },
    {
      "cell_type": "code",
      "execution_count": 1,
      "metadata": {
        "colab": {
          "base_uri": "https://localhost:8080/"
        },
        "id": "V0L0hJ9f30iL",
        "outputId": "6b310642-1dcc-495b-bdd8-120ee8a2ee45"
      },
      "outputs": [
        {
          "output_type": "stream",
          "name": "stdout",
          "text": [
            "Range: 8\n"
          ]
        }
      ],
      "source": [
        "def hitung_range(array):\n",
        "    return array[-1] - array[0]\n",
        "\n",
        "# Contoh penggunaan\n",
        "A = [1, 3, 5, 7, 9]\n",
        "print(\"Range:\", hitung_range(A))"
      ]
    },
    {
      "cell_type": "code",
      "source": [
        "def segitiga_pascal(n):\n",
        "    matriks = [[0]*n for _ in range(n)]\n",
        "\n",
        "    for i in range(n):\n",
        "        matriks[i][0] = 1  # Kolom pertama\n",
        "        matriks[0][i] = 1  # Baris pertama\n",
        "\n",
        "    for i in range(1, n):\n",
        "        for j in range(1, n):\n",
        "            matriks[i][j] = matriks[i-1][j] + matriks[i][j-1]\n",
        "\n",
        "    # Tampilkan matriks\n",
        "    for row in matriks:\n",
        "        print(' '.join(map(str, row)))\n",
        "\n",
        "# Contoh penggunaan\n",
        "N = int(input(\"Masukkan N: \"))\n",
        "segitiga_pascal(N)\n"
      ],
      "metadata": {
        "colab": {
          "base_uri": "https://localhost:8080/"
        },
        "id": "0bTHI-_237DZ",
        "outputId": "d944e3b9-cf43-4abc-b8bb-f42957894f00"
      },
      "execution_count": 4,
      "outputs": [
        {
          "output_type": "stream",
          "name": "stdout",
          "text": [
            "Masukkan N: 2\n",
            "1 1\n",
            "1 2\n"
          ]
        }
      ]
    }
  ]
}