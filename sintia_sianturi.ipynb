{
  "nbformat": 4,
  "nbformat_minor": 0,
  "metadata": {
    "colab": {
      "provenance": [],
      "authorship_tag": "ABX9TyOHovGcr+PohuYshANmGYVW",
      "include_colab_link": true
    },
    "kernelspec": {
      "name": "python3",
      "display_name": "Python 3"
    },
    "language_info": {
      "name": "python"
    }
  },
  "cells": [
    {
      "cell_type": "markdown",
      "metadata": {
        "id": "view-in-github",
        "colab_type": "text"
      },
      "source": [
        "<a href=\"https://colab.research.google.com/github/Chintyasiantury/sintia-sianturi/blob/main/sintia_sianturi.ipynb\" target=\"_parent\"><img src=\"https://colab.research.google.com/assets/colab-badge.svg\" alt=\"Open In Colab\"/></a>"
      ]
    },
    {
      "cell_type": "code",
      "source": [
        "#soal 2\n",
        "#minta nama dari user\n",
        "nama=input(\"silahkan masukkan namamu\")\n",
        "\n",
        "#minta jenis kelamin\n",
        "jenis_kelamin=input(\"masukkan jenis kelaminmu(pria/wanita:)\")\n",
        "\n",
        "#tampilkan sapaan sesuai dengan jenis kelamin\n",
        "if jenis_kelamin==\"pria\":\n",
        "  print(f\"halo bro{nama}\")\n",
        "\n",
        "elif jenis_kelamin==\"wanita\":\n",
        "  print(f\"halo sis{nama}\")\n",
        "\n",
        "else:\n",
        "  print(f\"halo{nama}\")\n",
        "\n"
      ],
      "metadata": {
        "colab": {
          "base_uri": "https://localhost:8080/"
        },
        "id": "aBwSM68huU-o",
        "outputId": "f87c0f8d-1b96-448f-b07b-6e7c7fb313db"
      },
      "execution_count": 7,
      "outputs": [
        {
          "output_type": "stream",
          "name": "stdout",
          "text": [
            "silahkan masukkan namamusintia\n",
            "masukkan jenis kelaminmu(pria/wanita:)wanita\n",
            "halo sissintia\n"
          ]
        }
      ]
    },
    {
      "cell_type": "code",
      "source": [
        "\n",
        "#latihan praktikum 2\n",
        "#program menghitung total belanja menggunakan looping\n",
        "\n",
        "#meminta jumlah jenis barang yang dibeli\n",
        "jumlah_jenis_barang =int(input)(\"masukkan jumlah jenis barang yang dibeli\":)\n",
        "\n",
        "#inisialisasi total belanja\n",
        "total_belanja=0\n",
        "\n",
        "#loop untuk setiap jenis barang\n",
        "for i in range (jumlah_jenis_barang):\n",
        " print (\"f\\n barang ke-{i+1}:\")\n",
        " harga satuan=float (input(masukkan harga satuan))\n",
        " jumlah unit(int(masukkan jumlah unit))\n",
        "\n",
        " #hitung total harga untuk barang ini\n",
        " total_harga_barang=harga_satuan*jumlah_unit\n",
        "  print (\"ftotal harga untuk barang ke-{i+1}:Rp{total_harga_barang:.2f}\")\n",
        "\n",
        "  #tambahkan ke total belanja\n",
        "  total_belanja += total_harga_barang\n",
        "\n",
        "  #tampilkan total belanja keseluruhan\n",
        "  print (f\"total belanja keseluruhan:Rp{total_belanja:.2f}\")\n",
        "\n"
      ],
      "metadata": {
        "colab": {
          "base_uri": "https://localhost:8080/",
          "height": 106
        },
        "id": "LZzl4Sf2zW_y",
        "outputId": "59665e32-cded-4571-f6e9-aa5f2fdd2511"
      },
      "execution_count": 43,
      "outputs": [
        {
          "output_type": "error",
          "ename": "SyntaxError",
          "evalue": "invalid syntax (<ipython-input-43-f9586e1ae8ef>, line 5)",
          "traceback": [
            "\u001b[0;36m  File \u001b[0;32m\"<ipython-input-43-f9586e1ae8ef>\"\u001b[0;36m, line \u001b[0;32m5\u001b[0m\n\u001b[0;31m    jumlah_jenis_barang =int(input)(\"masukkan jumlah jenis barang yang dibeli\":)\u001b[0m\n\u001b[0m                                                                              ^\u001b[0m\n\u001b[0;31mSyntaxError\u001b[0m\u001b[0;31m:\u001b[0m invalid syntax\n"
          ]
        }
      ]
    },
    {
      "cell_type": "code",
      "source": [
        "#Kondisi if adalah kondisi yang akan dieksekusi oleh program jika bernilai benar atau true\n",
        "nilai = 9\n",
        "#jika kondisi benar/TRUE maka program akan mengeksekusi perintah dibawahnya\n",
        "if(nilai > 7):\n",
        "  print(\"Sembilan Lebih Besar Dari Angka Tujuh\") # Kondisi Benar,Dieksekusi\n",
        "#jika kondisi salah/FALSE maka program tidak akan mengeksekusi perintahdibawahnya\n",
        "if(nilai > 10):\n",
        "  print(\"Sembilan Lebih Besar Dari Angka Sepuluh\") # Kondisi Salah, Maka tidak tereksekusi"
      ],
      "metadata": {
        "colab": {
          "base_uri": "https://localhost:8080/"
        },
        "id": "F6Rpfz5V6wbR",
        "outputId": "5c83f4bf-ad2b-41c8-c15c-9f745a97a352"
      },
      "execution_count": 29,
      "outputs": [
        {
          "output_type": "stream",
          "name": "stdout",
          "text": [
            "Sembilan Lebih Besar Dari Angka Tujuh\n"
          ]
        }
      ]
    },
    {
      "cell_type": "code",
      "source": [
        "str_input = input('Enter your grade: ')\n",
        "grade = int(str_input)\n",
        "\n",
        "if grade == 100:\n",
        "    print(\"perfect\")\n",
        "elif grade >= 85:\n",
        "    print(\"awesome\")\n",
        "elif grade >= 65:\n",
        "    print(\"passed the exam\")\n",
        "else:\n",
        "    print(\"below the passing grade\")"
      ],
      "metadata": {
        "colab": {
          "base_uri": "https://localhost:8080/"
        },
        "id": "Mx6hQD_t7_pq",
        "outputId": "5edf3f62-0663-4623-e1ad-df9ad941e46c"
      },
      "execution_count": 34,
      "outputs": [
        {
          "output_type": "stream",
          "name": "stdout",
          "text": [
            "Enter your grade: 95\n",
            "awesome\n"
          ]
        }
      ]
    }
  ]
}