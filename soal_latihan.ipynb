{
  "nbformat": 4,
  "nbformat_minor": 0,
  "metadata": {
    "colab": {
      "provenance": [],
      "authorship_tag": "ABX9TyOBJ6fK+sbdsMCuGc15Ubl/",
      "include_colab_link": true
    },
    "kernelspec": {
      "name": "python3",
      "display_name": "Python 3"
    },
    "language_info": {
      "name": "python"
    }
  },
  "cells": [
    {
      "cell_type": "markdown",
      "metadata": {
        "id": "view-in-github",
        "colab_type": "text"
      },
      "source": [
        "<a href=\"https://colab.research.google.com/github/Chintyasiantury/sintia-sianturi/blob/main/soal_latihan.ipynb\" target=\"_parent\"><img src=\"https://colab.research.google.com/assets/colab-badge.svg\" alt=\"Open In Colab\"/></a>"
      ]
    },
    {
      "cell_type": "code",
      "execution_count": null,
      "metadata": {
        "colab": {
          "base_uri": "https://localhost:8080/"
        },
        "id": "MHRTlmuIM5Ez",
        "outputId": "332431cd-ccd3-4eb1-c261-b40de09cb2b9"
      },
      "outputs": [
        {
          "output_type": "stream",
          "name": "stdout",
          "text": [
            "Masukkan panjang persegi panjang: 5\n",
            "Masukkan lebar persegi panjang: 3\n",
            "Luas persegi panjang adalah: 15.0\n"
          ]
        }
      ],
      "source": [
        "# Program menghitung luas persegi panjang\n",
        "# Meminta input panjang dan lebar dari pengguna\n",
        "panjang = float(input(\"Masukkan panjang persegi panjang: \"))\n",
        "lebar = float(input(\"Masukkan lebar persegi panjang: \"))\n",
        "\n",
        "# Menghitung luas persegi panjang\n",
        "luas = panjang * lebar\n",
        "\n",
        "# Menampilkan hasil\n",
        "print(f\"Luas persegi panjang adalah: {luas}\")\n"
      ]
    },
    {
      "cell_type": "code",
      "source": [
        "# Program menentukan apakah bilangan genap atau ganjil\n",
        "# Meminta sebuah bilangan bulat dari pengguna\n",
        "bilangan = int(input(\"Masukkan bilangan: \"))\n",
        "\n",
        "# Menentukan apakah bilangan genap atau ganjil\n",
        "if bilangan % 2 == 0:\n",
        "    print(f\"{bilangan} adalah bilangan genap\")\n",
        "else:\n",
        "    print(f\"{bilangan} adalah bilangan ganjil\")"
      ],
      "metadata": {
        "colab": {
          "base_uri": "https://localhost:8080/"
        },
        "id": "I6huub5TPRQR",
        "outputId": "99319d93-2109-46a4-f4bc-04bbeca03304"
      },
      "execution_count": null,
      "outputs": [
        {
          "output_type": "stream",
          "name": "stdout",
          "text": [
            "Masukkan bilangan: 7\n",
            "7 adalah bilangan ganjil\n"
          ]
        }
      ]
    },
    {
      "cell_type": "code",
      "source": [
        "# Program menghitung jumlah semua bilangan antara a dan b\n",
        "# Meminta dua bilangan bulat a dan b dari pengguna\n",
        "a = int(input(\"masukkan bilangan pertama:\"))\n",
        "b = int(input(\"masukkan bilangan kedua:\"))\n",
        "\n",
        "jumlah=0\n",
        "for i in range (a,b+1):\n",
        "  jumlah =jumlah=i\n",
        "print(f\"jumlah: {jumlah}\")"
      ],
      "metadata": {
        "colab": {
          "base_uri": "https://localhost:8080/"
        },
        "id": "rFc2GpaGVvh5",
        "outputId": "5554305c-5026-4568-eb67-20a3dc23087d"
      },
      "execution_count": null,
      "outputs": [
        {
          "output_type": "stream",
          "name": "stdout",
          "text": [
            "masukkan bilangan pertama:3\n",
            "masukkan bilangan kedua:7\n",
            "jumlah: 7\n"
          ]
        }
      ]
    },
    {
      "cell_type": "code",
      "source": [
        "# Program mencetak semua bilangan genap dalam rentang\n",
        "# Meminta memasukkan dua bilangan bulat\n",
        "a = int(input(\"masukkan bilangan pertama:\"))\n",
        "b = int(input(\"masukkan bilangan kedua:\"))\n",
        "\n",
        "# Menampilkan bilangan genap dalam rentang\n",
        "print(\"bilangan genap dalam rentang tersebut:\")\n",
        "for i in range(start, end + 1):\n",
        "  if (variabel) % 2 == 0\n",
        "    print (variabel,end=\"\")\n",
        "\n"
      ],
      "metadata": {
        "colab": {
          "base_uri": "https://localhost:8080/",
          "height": 106
        },
        "id": "h47C0ezXatTx",
        "outputId": "932c5bf0-9841-4420-8093-daa6ea335ccf"
      },
      "execution_count": null,
      "outputs": [
        {
          "output_type": "error",
          "ename": "SyntaxError",
          "evalue": "expected ':' (<ipython-input-9-bcb9509563fe>, line 9)",
          "traceback": [
            "\u001b[0;36m  File \u001b[0;32m\"<ipython-input-9-bcb9509563fe>\"\u001b[0;36m, line \u001b[0;32m9\u001b[0m\n\u001b[0;31m    if (variabel) % 2 == 0\u001b[0m\n\u001b[0m                          ^\u001b[0m\n\u001b[0;31mSyntaxError\u001b[0m\u001b[0;31m:\u001b[0m expected ':'\n"
          ]
        }
      ]
    },
    {
      "cell_type": "code",
      "source": [
        "# Program mencetak nilai array\n",
        "\n",
        "# Input array\n",
        "A=[5,2,8,1]\n",
        "# Membalik urutan array\n",
        "A_terbalik=A[::-1]\n",
        "# Mencetak hasil\n",
        "print(\"array terbalik:\", A_terbalik)"
      ],
      "metadata": {
        "colab": {
          "base_uri": "https://localhost:8080/"
        },
        "id": "x7BjaWfzegdZ",
        "outputId": "17837a17-c137-4bba-9069-f53a6cd34d60"
      },
      "execution_count": null,
      "outputs": [
        {
          "output_type": "stream",
          "name": "stdout",
          "text": [
            "array terbalik: [1, 8, 2, 5]\n"
          ]
        }
      ]
    },
    {
      "cell_type": "code",
      "source": [
        "# Input bilangan\n",
        "n =int(input(\"Masukkan bilangan:\"))\n",
        "\n",
        "#Fungsi untuk mengecek bilangan prima\n",
        "def cek_prima(n):\n",
        "  if n<=1m:\n",
        "    return False\n",
        "    for i in range(2,int(n**0,5)+1):\n",
        "      if n %i == 0\n",
        "# Menentukan dan mencetak hasil\n"
      ],
      "metadata": {
        "id": "DRS_Ge1wicKx"
      },
      "execution_count": null,
      "outputs": []
    }
  ]
}